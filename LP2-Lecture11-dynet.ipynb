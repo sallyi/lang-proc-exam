{
 "cells": [
  {
   "cell_type": "markdown",
   "metadata": {
    "slideshow": {
     "slide_type": "slide"
    }
   },
   "source": [
    "## Language Processing 2\n",
    "\n",
    "### Session 11\n",
    "\n",
    "#### Jurgen Wedekind & Manex Agirrezabal"
   ]
  },
  {
   "cell_type": "markdown",
   "metadata": {
    "slideshow": {
     "slide_type": "fragment"
    }
   },
   "source": [
    "Good sources of information:\n",
    "\n",
    " - https://dynet.readthedocs.io/en/latest/python_ref.html\n",
    " - https://dynet.readthedocs.io/en/latest/tutorials_notebooks/RNNs.html\n",
    " \n",
    " - http://phontron.com/slides/emnlp2016-dynet-tutorial-part1.pdf\n",
    " - http://phontron.com/slides/emnlp2016-dynet-tutorial-part2.pdf\n",
    " \n",
    " - https://github.com/clab/dynet/"
   ]
  },
  {
   "cell_type": "code",
   "execution_count": 1,
   "metadata": {
    "ExecuteTime": {
     "end_time": "2019-05-03T11:47:20.211894Z",
     "start_time": "2019-05-03T11:47:19.690132Z"
    },
    "slideshow": {
     "slide_type": "subslide"
    }
   },
   "outputs": [],
   "source": [
    "import dynet as dy"
   ]
  },
  {
   "cell_type": "markdown",
   "metadata": {
    "slideshow": {
     "slide_type": "fragment"
    }
   },
   "source": [
    "```\n",
    "conda create -n superdynet python=3.6 anaconda\n",
    "conda activate superdynet\n",
    "pip install dynet\n",
    "\n",
    "```"
   ]
  },
  {
   "cell_type": "markdown",
   "metadata": {
    "slideshow": {
     "slide_type": "slide"
    }
   },
   "source": [
    "### The goal\n",
    "\n",
    "  - Intro to DyNet\n",
    "  - Gradient Descent (exercise with NLP)\n",
    "  - Recurrent Neural Networks with DyNet"
   ]
  },
  {
   "cell_type": "markdown",
   "metadata": {
    "slideshow": {
     "slide_type": "subslide"
    }
   },
   "source": [
    "### Intro to DyNet"
   ]
  },
  {
   "cell_type": "markdown",
   "metadata": {
    "slideshow": {
     "slide_type": "subslide"
    }
   },
   "source": [
    "\n",
    "\n",
    " - Computation Graph\n",
    " - Expressions (~nodes in the graph)\n",
    " - Parameters\n",
    " - Model - a collection of parameters (`ParameterCollection`)\n",
    " - Trainer\n"
   ]
  },
  {
   "cell_type": "markdown",
   "metadata": {
    "slideshow": {
     "slide_type": "subslide"
    }
   },
   "source": [
    "### Computation graphs\n",
    "\n",
    " - Deep Learning’s Lingua Franca\n",
    " - Page 13: http://phontron.com/slides/emnlp2016-dynet-tutorial-part1.pdf"
   ]
  },
  {
   "cell_type": "markdown",
   "metadata": {
    "slideshow": {
     "slide_type": "subslide"
    }
   },
   "source": [
    "### Expressions\n",
    "\n",
    "Expressions are the main data types being manipulated in a DyNet program. Each expression represents a sub-computation in a computation graph."
   ]
  },
  {
   "cell_type": "markdown",
   "metadata": {
    "slideshow": {
     "slide_type": "subslide"
    }
   },
   "source": [
    "### Parameters\n",
    "\n",
    "Parameters are things that are optimized.\n",
    "\n",
    "#### Lookup parameters\n",
    "\n",
    "LookupParameters represents a table of parameters.\n",
    "\n",
    "They are used to embed a set of discrete objects (e.g. word embeddings)."
   ]
  },
  {
   "cell_type": "markdown",
   "metadata": {
    "slideshow": {
     "slide_type": "subslide"
    }
   },
   "source": [
    "### Model or `ParameterCollection`\n",
    "\n",
    "A colllection of parameters."
   ]
  },
  {
   "cell_type": "markdown",
   "metadata": {
    "slideshow": {
     "slide_type": "subslide"
    }
   },
   "source": [
    "### Trainer\n",
    "\n",
    "This is the one that will update the weights.\n",
    "\n",
    " - Initialize a Trainer with a given model.\n",
    " - Compute gradients by calling `expr.backward()` from a scalar node.\n",
    " - Call `trainer.update()` to update the model parameters using the gradients."
   ]
  },
  {
   "cell_type": "markdown",
   "metadata": {
    "slideshow": {
     "slide_type": "slide"
    }
   },
   "source": [
    "## Training with DyNet (today)\n",
    "\n",
    " - Create model, add parameters, create trainer.\n",
    " - For each training example:\n",
    "    - create computation graph for the loss\n",
    "    - run forward (compute the loss)\n",
    "    - run backward (compute the gradients)\n",
    "    - update parameters"
   ]
  },
  {
   "cell_type": "code",
   "execution_count": 2,
   "metadata": {
    "ExecuteTime": {
     "end_time": "2019-05-03T11:47:21.266388Z",
     "start_time": "2019-05-03T11:47:20.216850Z"
    },
    "slideshow": {
     "slide_type": "skip"
    }
   },
   "outputs": [],
   "source": [
    "import numpy as np\n",
    "import pandas as pd\n",
    "import matplotlib.pyplot as plt\n",
    "%matplotlib inline"
   ]
  },
  {
   "cell_type": "code",
   "execution_count": 3,
   "metadata": {
    "ExecuteTime": {
     "end_time": "2019-05-03T11:47:21.285352Z",
     "start_time": "2019-05-03T11:47:21.271840Z"
    },
    "slideshow": {
     "slide_type": "skip"
    }
   },
   "outputs": [],
   "source": [
    "def linearly_seperable_data(num_instances, epsilon=0.1):\n",
    "    '''\n",
    "    generates a linearly separable data set\n",
    "    '''\n",
    "    # fill the first column (the labels) randomly with -1s and 1s\n",
    "    labels = 2 * np.random.randint(0, 2, num_instances) - 1\n",
    "    # pick x1 at random\n",
    "    x1 = np.random.random(num_instances)\n",
    "    # base x2 off of x1, add random noise and epsilon, and move up or down\n",
    "    x2 = x1 + ((epsilon + np.random.random(num_instances)) * labels)\n",
    "    labels = ((labels+1)/2).astype(int)\n",
    "    return pd.DataFrame({'x1': x1, 'x2': x2, 'label': labels})"
   ]
  },
  {
   "cell_type": "code",
   "execution_count": 4,
   "metadata": {
    "ExecuteTime": {
     "end_time": "2019-05-03T11:47:21.340428Z",
     "start_time": "2019-05-03T11:47:21.292179Z"
    },
    "slideshow": {
     "slide_type": "subslide"
    }
   },
   "outputs": [
    {
     "data": {
      "text/html": [
       "<div>\n",
       "<style scoped>\n",
       "    .dataframe tbody tr th:only-of-type {\n",
       "        vertical-align: middle;\n",
       "    }\n",
       "\n",
       "    .dataframe tbody tr th {\n",
       "        vertical-align: top;\n",
       "    }\n",
       "\n",
       "    .dataframe thead th {\n",
       "        text-align: right;\n",
       "    }\n",
       "</style>\n",
       "<table border=\"1\" class=\"dataframe\">\n",
       "  <thead>\n",
       "    <tr style=\"text-align: right;\">\n",
       "      <th></th>\n",
       "      <th>x1</th>\n",
       "      <th>x2</th>\n",
       "      <th>label</th>\n",
       "    </tr>\n",
       "  </thead>\n",
       "  <tbody>\n",
       "    <tr>\n",
       "      <th>0</th>\n",
       "      <td>0.916664</td>\n",
       "      <td>0.067679</td>\n",
       "      <td>0</td>\n",
       "    </tr>\n",
       "    <tr>\n",
       "      <th>1</th>\n",
       "      <td>0.002023</td>\n",
       "      <td>0.941277</td>\n",
       "      <td>1</td>\n",
       "    </tr>\n",
       "    <tr>\n",
       "      <th>2</th>\n",
       "      <td>0.971332</td>\n",
       "      <td>0.825757</td>\n",
       "      <td>0</td>\n",
       "    </tr>\n",
       "    <tr>\n",
       "      <th>3</th>\n",
       "      <td>0.889048</td>\n",
       "      <td>1.494691</td>\n",
       "      <td>1</td>\n",
       "    </tr>\n",
       "    <tr>\n",
       "      <th>4</th>\n",
       "      <td>0.699489</td>\n",
       "      <td>1.388303</td>\n",
       "      <td>1</td>\n",
       "    </tr>\n",
       "  </tbody>\n",
       "</table>\n",
       "</div>"
      ],
      "text/plain": [
       "         x1        x2  label\n",
       "0  0.916664  0.067679      0\n",
       "1  0.002023  0.941277      1\n",
       "2  0.971332  0.825757      0\n",
       "3  0.889048  1.494691      1\n",
       "4  0.699489  1.388303      1"
      ]
     },
     "execution_count": 4,
     "metadata": {},
     "output_type": "execute_result"
    }
   ],
   "source": [
    "np.random.seed(24)\n",
    "l_s_d = linearly_seperable_data(100)\n",
    "l_s_d.head()"
   ]
  },
  {
   "cell_type": "code",
   "execution_count": 5,
   "metadata": {
    "ExecuteTime": {
     "end_time": "2019-05-03T11:47:21.363605Z",
     "start_time": "2019-05-03T11:47:21.346742Z"
    },
    "slideshow": {
     "slide_type": "subslide"
    }
   },
   "outputs": [
    {
     "data": {
      "text/plain": [
       "((100, 2), (100,))"
      ]
     },
     "execution_count": 5,
     "metadata": {},
     "output_type": "execute_result"
    }
   ],
   "source": [
    "X = l_s_d[['x1','x2']].values\n",
    "y = l_s_d['label']\n",
    "X.shape,y.shape"
   ]
  },
  {
   "cell_type": "code",
   "execution_count": 6,
   "metadata": {
    "ExecuteTime": {
     "end_time": "2019-05-03T11:47:21.732622Z",
     "start_time": "2019-05-03T11:47:21.366613Z"
    },
    "scrolled": true,
    "slideshow": {
     "slide_type": "subslide"
    }
   },
   "outputs": [
    {
     "name": "stdout",
     "output_type": "stream",
     "text": [
      "0.640983813405037\n",
      "0.5310313957929611\n",
      "0.4631859940290451\n",
      "0.41374624490737916\n",
      "0.3766621547937393\n",
      "0.3481876826286316\n",
      "0.3257425856590271\n",
      "0.30759513318538667\n",
      "0.2925882142782211\n",
      "0.27993600726127627\n",
      "0.269091460108757\n",
      "0.25966390073299406\n",
      "0.2513677132129669\n",
      "0.24398960888385773\n",
      "0.23736720263957978\n",
      "0.2313747549057007\n",
      "0.2259134656190872\n",
      "0.22090457916259765\n",
      "0.21628454566001892\n",
      "0.2120015001296997\n",
      "0.2080126655101776\n",
      "0.20428249180316926\n",
      "0.20078113913536072\n",
      "0.19748337626457213\n",
      "0.19436767160892487\n",
      "0.19141557812690735\n",
      "0.18861126720905305\n",
      "0.18594085693359375\n",
      "0.18339235246181487\n",
      "0.18095520675182342\n",
      "0.1786201375722885\n",
      "0.17637895286083222\n",
      "0.17422431349754333\n",
      "0.17214976966381074\n",
      "0.17014945447444915\n",
      "0.16821819841861724\n",
      "0.1663512843847275\n",
      "0.16454450011253358\n",
      "0.16279396891593934\n",
      "0.16109627544879912\n",
      "0.15944820404052734\n",
      "0.1578469008207321\n",
      "0.15628962457180023\n",
      "0.15477409243583679\n",
      "0.15329797327518463\n",
      "0.15185929834842682\n",
      "0.15045614063739776\n",
      "0.14908674359321594\n",
      "0.14774954438209534\n",
      "0.14644303381443025\n",
      "0.14516584157943727\n",
      "0.14391663610935213\n",
      "0.14269424438476563\n",
      "0.14149756014347076\n",
      "0.1403255444765091\n",
      "0.1391772049665451\n",
      "0.1380516231060028\n",
      "0.13694795489311218\n",
      "0.13586537837982177\n",
      "0.1348031359910965\n",
      "0.13376059412956237\n",
      "0.13273695826530457\n",
      "0.13173167884349823\n",
      "0.13074418663978576\n",
      "0.1297738629579544\n",
      "0.12882018804550172\n",
      "0.12788264334201813\n",
      "0.1269607150554657\n",
      "0.12605403006076812\n",
      "0.12516207933425905\n",
      "0.12428448677062988\n",
      "0.12342081665992737\n",
      "0.12257075011730194\n",
      "0.12173388600349426\n",
      "0.12090990662574769\n",
      "0.12009852290153504\n",
      "0.11929929375648499\n",
      "0.11851199805736541\n",
      "0.11773635506629944\n",
      "0.11697209417819977\n",
      "0.11621892511844635\n",
      "0.11547659873962403\n",
      "0.11474488019943237\n",
      "0.11402348041534424\n",
      "0.11331218719482422\n",
      "0.11261080503463745\n",
      "0.11191914319992065\n",
      "0.11123693108558655\n",
      "0.11056400001049042\n",
      "0.10990015804767608\n",
      "0.10924522757530213\n",
      "0.10859897196292877\n",
      "0.10796125173568726\n",
      "0.10733192682266235\n",
      "0.10671078979969024\n",
      "0.10609767198562622\n",
      "0.10549241423606873\n",
      "0.10489487767219544\n",
      "0.10430495321750641\n",
      "0.10372238099575043\n"
     ]
    }
   ],
   "source": [
    "#MODEL SPECIFICATION\n",
    "model = dy.ParameterCollection()\n",
    "W_p = model.add_parameters((2, 2))\n",
    "b_p = model.add_parameters (2)\n",
    "\n",
    "trainer = dy.SimpleSGDTrainer (model)\n",
    "\n",
    "num_epochs = 100\n",
    "closses = []\n",
    "\n",
    "\n",
    "for epoch in range(num_epochs):\n",
    "    closs = 0\n",
    "\n",
    "    for input_x, out_label in zip(X,y):\n",
    "        dy.renew_cg()\n",
    "        x = dy.inputVector(input_x) #This must go after renewing the graph\n",
    "        \n",
    "        output_value = dy.logistic(W_p*x+b_p)\n",
    "        \n",
    "        loss = dy.hinge(output_value,out_label)\n",
    "\n",
    "        loss_val = loss.value()\n",
    "        closs = closs + loss_val\n",
    "        \n",
    "        loss.backward ()\n",
    "        trainer.update()\n",
    "    \n",
    "    print (closs/len(l_s_d))\n",
    "    closses.append(closs/len(l_s_d))"
   ]
  },
  {
   "cell_type": "code",
   "execution_count": 11,
   "metadata": {
    "ExecuteTime": {
     "end_time": "2019-05-03T11:47:43.850939Z",
     "start_time": "2019-05-03T11:47:43.613279Z"
    },
    "slideshow": {
     "slide_type": "subslide"
    }
   },
   "outputs": [
    {
     "data": {
      "image/png": "[encoded data removed]",
      "text/plain": [
       "<Figure size 432x288 with 1 Axes>"
      ]
     },
     "metadata": {
      "needs_background": "light"
     },
     "output_type": "display_data"
    }
   ],
   "source": [
    "plt.plot(closses);"
   ]
  },
  {
   "cell_type": "markdown",
   "metadata": {
    "slideshow": {
     "slide_type": "fragment"
    }
   },
   "source": [
    "### Questions:\n",
    "\n",
    "  - Why is the gradient going always down?\n",
    "  - How to check when to stop the learning process?"
   ]
  },
  {
   "cell_type": "markdown",
   "metadata": {
    "slideshow": {
     "slide_type": "subslide"
    }
   },
   "source": [
    "### Gradient descent in NLP"
   ]
  },
  {
   "cell_type": "markdown",
   "metadata": {
    "slideshow": {
     "slide_type": "fragment"
    }
   },
   "source": [
    "The goal is to train a model that will distinguish Spanish and English names (feel free to do it with other languages).\n",
    "\n",
    "I'll use the data from [this website](https://pytorch.org/tutorials/intermediate/char_rnn_classification_tutorial.html)."
   ]
  },
  {
   "cell_type": "code",
   "execution_count": 8,
   "metadata": {
    "ExecuteTime": {
     "end_time": "2019-05-03T11:47:22.151781Z",
     "start_time": "2019-05-03T11:47:22.064449Z"
    },
    "slideshow": {
     "slide_type": "subslide"
    }
   },
   "outputs": [
    {
     "name": "stderr",
     "output_type": "stream",
     "text": [
      "head: cannot open './names/English.txt' for reading: No such file or directory\n"
     ]
    }
   ],
   "source": [
    "!head ./names/English.txt"
   ]
  },
  {
   "cell_type": "code",
   "execution_count": 9,
   "metadata": {
    "ExecuteTime": {
     "end_time": "2019-05-03T11:47:22.222309Z",
     "start_time": "2019-05-03T11:47:22.156704Z"
    },
    "slideshow": {
     "slide_type": "subslide"
    }
   },
   "outputs": [
    {
     "name": "stderr",
     "output_type": "stream",
     "text": [
      "head: cannot open './names/Spanish.txt' for reading: No such file or directory\n"
     ]
    }
   ],
   "source": [
    "!head ./names/Spanish.txt"
   ]
  },
  {
   "cell_type": "code",
   "execution_count": 10,
   "metadata": {
    "ExecuteTime": {
     "end_time": "2019-05-03T11:47:22.549072Z",
     "start_time": "2019-05-03T11:47:22.226672Z"
    },
    "slideshow": {
     "slide_type": "subslide"
    }
   },
   "outputs": [
    {
     "ename": "FileNotFoundError",
     "evalue": "[Errno 2] No such file or directory: './/names/English.txt'",
     "output_type": "error",
     "traceback": [
      "\u001b[1;31m---------------------------------------------------------------------------\u001b[0m",
      "\u001b[1;31mFileNotFoundError\u001b[0m                         Traceback (most recent call last)",
      "\u001b[1;32m<ipython-input-10-5b31b38a1a7d>\u001b[0m in \u001b[0;36m<module>\u001b[1;34m\u001b[0m\n\u001b[1;32m----> 1\u001b[1;33m \u001b[0mf\u001b[0m\u001b[1;33m=\u001b[0m\u001b[0mopen\u001b[0m\u001b[1;33m(\u001b[0m\u001b[1;34m\".//names/English.txt\"\u001b[0m\u001b[1;33m)\u001b[0m\u001b[1;33m\u001b[0m\u001b[1;33m\u001b[0m\u001b[0m\n\u001b[0m\u001b[0;32m      2\u001b[0m \u001b[0mnames_english\u001b[0m\u001b[1;33m=\u001b[0m\u001b[1;33m[\u001b[0m\u001b[0mline\u001b[0m\u001b[1;33m.\u001b[0m\u001b[0mstrip\u001b[0m\u001b[1;33m(\u001b[0m\u001b[1;33m)\u001b[0m\u001b[1;33m.\u001b[0m\u001b[0mlower\u001b[0m\u001b[1;33m(\u001b[0m\u001b[1;33m)\u001b[0m \u001b[1;32mfor\u001b[0m \u001b[0mline\u001b[0m \u001b[1;32min\u001b[0m \u001b[0mf\u001b[0m\u001b[1;33m]\u001b[0m\u001b[1;33m\u001b[0m\u001b[1;33m\u001b[0m\u001b[0m\n\u001b[0;32m      3\u001b[0m \u001b[0mf\u001b[0m\u001b[1;33m.\u001b[0m\u001b[0mclose\u001b[0m\u001b[1;33m(\u001b[0m\u001b[1;33m)\u001b[0m\u001b[1;33m\u001b[0m\u001b[1;33m\u001b[0m\u001b[0m\n\u001b[0;32m      4\u001b[0m \u001b[0mf\u001b[0m\u001b[1;33m=\u001b[0m\u001b[0mopen\u001b[0m\u001b[1;33m(\u001b[0m\u001b[1;34m\"./names/Spanish.txt\"\u001b[0m\u001b[1;33m)\u001b[0m\u001b[1;33m\u001b[0m\u001b[1;33m\u001b[0m\u001b[0m\n\u001b[0;32m      5\u001b[0m \u001b[0mnames_spanish\u001b[0m\u001b[1;33m=\u001b[0m\u001b[1;33m[\u001b[0m\u001b[0mline\u001b[0m\u001b[1;33m.\u001b[0m\u001b[0mstrip\u001b[0m\u001b[1;33m(\u001b[0m\u001b[1;33m)\u001b[0m\u001b[1;33m.\u001b[0m\u001b[0mlower\u001b[0m\u001b[1;33m(\u001b[0m\u001b[1;33m)\u001b[0m \u001b[1;32mfor\u001b[0m \u001b[0mline\u001b[0m \u001b[1;32min\u001b[0m \u001b[0mf\u001b[0m\u001b[1;33m]\u001b[0m\u001b[1;33m\u001b[0m\u001b[1;33m\u001b[0m\u001b[0m\n",
      "\u001b[1;31mFileNotFoundError\u001b[0m: [Errno 2] No such file or directory: './/names/English.txt'"
     ]
    }
   ],
   "source": [
    "f=open(\".//names/English.txt\")\n",
    "names_english=[line.strip().lower() for line in f]\n",
    "f.close()\n",
    "f=open(\"./names/Spanish.txt\")\n",
    "names_spanish=[line.strip().lower() for line in f]\n",
    "f.close()\n",
    "len(names_english),names_english[:5],len(names_spanish),names_spanish[:5]"
   ]
  },
  {
   "cell_type": "code",
   "execution_count": 12,
   "metadata": {
    "ExecuteTime": {
     "end_time": "2019-05-03T11:48:05.369517Z",
     "start_time": "2019-05-03T11:47:58.860754Z"
    },
    "slideshow": {
     "slide_type": "skip"
    }
   },
   "outputs": [],
   "source": [
    "from sklearn.feature_extraction.text import CountVectorizer"
   ]
  },
  {
   "cell_type": "markdown",
   "metadata": {
    "slideshow": {
     "slide_type": "subslide"
    }
   },
   "source": [
    "### Exercise\n",
    "\n",
    "#### Represent these names as Bag of Character bigrams\n",
    "\n",
    "#### and English/Spanish as classes 0 and 1\n",
    "\n",
    "#### save them in variables `X_train` and `y_train`\n",
    "\n",
    "#### and use the following code to find good parameters\n",
    "\n",
    "##### Hint: `CountVectorizer`"
   ]
  },
  {
   "cell_type": "code",
   "execution_count": null,
   "metadata": {
    "ExecuteTime": {
     "end_time": "2019-05-03T11:47:22.553998Z",
     "start_time": "2019-05-03T11:47:19.846Z"
    },
    "slideshow": {
     "slide_type": "fragment"
    }
   },
   "outputs": [],
   "source": [
    "#YOUR CODE HERE"
   ]
  },
  {
   "cell_type": "code",
   "execution_count": null,
   "metadata": {
    "ExecuteTime": {
     "end_time": "2019-05-03T11:47:22.555982Z",
     "start_time": "2019-05-03T11:47:19.851Z"
    },
    "scrolled": true,
    "slideshow": {
     "slide_type": "subslide"
    }
   },
   "outputs": [],
   "source": [
    "#MODEL SPECIFICATION\n",
    "model = dy.ParameterCollection()\n",
    "\n",
    "W_p = model.add_parameters((2, 536))\n",
    "b_p = model.add_parameters (2)\n",
    "trainer = dy.SimpleSGDTrainer (model)\n",
    "\n",
    "num_epochs = 100\n",
    "closses = []\n",
    "\n",
    "for epoch in range(num_epochs):\n",
    "    closs = 0\n",
    "\n",
    "    for input_x, out_label in zip(X_train,y_train):\n",
    "        dy.renew_cg()\n",
    "        x = dy.inputVector(input_x.toarray().reshape(-1)) #This must go after renewing the graph\n",
    "        \n",
    "        output_value = dy.logistic(W_p*x+b_p)\n",
    "        \n",
    "        loss = dy.hinge(output_value,out_label)\n",
    "\n",
    "        loss_val = loss.value()\n",
    "        closs = closs + loss_val\n",
    "        \n",
    "        loss.backward ()\n",
    "        trainer.update()\n",
    "    \n",
    "    print (closs/len(y_train))\n",
    "    closses.append(closs/len(y_train))\n",
    "    \n"
   ]
  },
  {
   "cell_type": "code",
   "execution_count": null,
   "metadata": {
    "ExecuteTime": {
     "end_time": "2019-05-03T11:47:22.557471Z",
     "start_time": "2019-05-03T11:47:19.855Z"
    },
    "scrolled": false,
    "slideshow": {
     "slide_type": "subslide"
    }
   },
   "outputs": [],
   "source": [
    "plt.plot(closses)"
   ]
  },
  {
   "cell_type": "markdown",
   "metadata": {
    "slideshow": {
     "slide_type": "slide"
    }
   },
   "source": [
    "## Intuition about verbs in Spanish (blackboard)\n",
    "\n",
    "  - tocar $\\rightarrow$ ?\n",
    "  - Extra raw text\n",
    "  - Other possible usages of raw text\n",
    "    - POS tagging + extra character information (`frontofning`)"
   ]
  },
  {
   "cell_type": "code",
   "execution_count": null,
   "metadata": {
    "ExecuteTime": {
     "end_time": "2019-05-03T11:47:22.559457Z",
     "start_time": "2019-05-03T11:47:19.873Z"
    },
    "slideshow": {
     "slide_type": "skip"
    }
   },
   "outputs": [],
   "source": [
    "!cp ../experiments/util.py ./\n",
    "!cp ../experiments/allnames.txt ./\n"
   ]
  },
  {
   "cell_type": "code",
   "execution_count": null,
   "metadata": {
    "ExecuteTime": {
     "end_time": "2019-05-03T11:47:22.560944Z",
     "start_time": "2019-05-03T11:47:19.879Z"
    },
    "slideshow": {
     "slide_type": "skip"
    }
   },
   "outputs": [],
   "source": [
    "import util\n",
    "from itertools import count\n",
    "import random\n",
    "import time\n",
    "from collections import defaultdict"
   ]
  },
  {
   "cell_type": "code",
   "execution_count": null,
   "metadata": {
    "ExecuteTime": {
     "end_time": "2019-05-03T11:47:22.562977Z",
     "start_time": "2019-05-03T11:47:19.884Z"
    },
    "slideshow": {
     "slide_type": "subslide"
    }
   },
   "outputs": [],
   "source": [
    "class RNNLanguageModel:\n",
    "    def __init__(self, model, LAYERS, INPUT_DIM, HIDDEN_DIM, VOCAB_SIZE, builder=dy.SimpleRNNBuilder):\n",
    "        self.builder = builder(LAYERS, INPUT_DIM, HIDDEN_DIM, model)\n",
    "\n",
    "        self.lookup = model.add_lookup_parameters((VOCAB_SIZE, INPUT_DIM), name=\"lookup\")\n",
    "        self.R = model.add_parameters((VOCAB_SIZE, HIDDEN_DIM), name=\"hidden2out\")\n",
    "        self.bias = model.add_parameters((VOCAB_SIZE), name=\"bias\")\n",
    "\n",
    "    def save_to_disk(self, filename):\n",
    "        dy.save(filename, [self.builder, self.lookup, self.R, self.bias])\n",
    "\n",
    "    def load_from_disk(self, filename):\n",
    "        (self.builder, self.lookup, self.R, self.bias) = dy.load(filename, model)\n",
    "        \n",
    "    def build_lm_graph(self, sent):\n",
    "        dy.renew_cg()\n",
    "        init_state = self.builder.initial_state()\n",
    "\n",
    "        errs = [] # will hold expressions\n",
    "        es=[]\n",
    "        state = init_state\n",
    "        for (cw,nw) in zip(sent,sent[1:]):\n",
    "            # assume word is already a word-id\n",
    "            x_t = dy.lookup(self.lookup, int(cw))\n",
    "            state = state.add_input(x_t)\n",
    "            y_t = state.output()\n",
    "            r_t = self.bias + (self.R * y_t)\n",
    "            err = dy.pickneglogsoftmax(r_t, int(nw))\n",
    "            errs.append(err)\n",
    "        nerr = dy.esum(errs)\n",
    "        return nerr\n",
    "    \n",
    "    def predict_next_word(self, sentence):\n",
    "        dy.renew_cg()\n",
    "        init_state = self.builder.initial_state()\n",
    "        state = init_state\n",
    "        for cw in sentence:\n",
    "            # assume word is already a word-id\n",
    "            x_t = self.lookup[int(cw)]\n",
    "            state = state.add_input(x_t)\n",
    "        y_t = state.output()\n",
    "        r_t = self.bias + (self.R * y_t)\n",
    "        prob = dy.softmax(r_t)\n",
    "        return prob\n",
    "        \n",
    "    def sample(self, first=1, nchars=0, stop=-1):\n",
    "        res = [first]\n",
    "        dy.renew_cg()\n",
    "        state = self.builder.initial_state()\n",
    "\n",
    "        cw = first\n",
    "        while True:\n",
    "            x_t = self.lookup[cw]\n",
    "            state = state.add_input(x_t)\n",
    "            y_t = state.output()\n",
    "            r_t = self.bias + (self.R * y_t)\n",
    "            ydist = dy.softmax(r_t)\n",
    "            dist = ydist.vec_value()\n",
    "            rnd = random.random()\n",
    "            for i,p in enumerate(dist):\n",
    "                rnd -= p\n",
    "                if rnd <= 0: break\n",
    "            res.append(i)\n",
    "            cw = i\n",
    "            if cw == stop: break\n",
    "            if nchars and len(res) > nchars: break\n",
    "        return res"
   ]
  },
  {
   "cell_type": "code",
   "execution_count": null,
   "metadata": {
    "ExecuteTime": {
     "end_time": "2019-05-03T11:47:22.564565Z",
     "start_time": "2019-05-03T11:47:19.889Z"
    }
   },
   "outputs": [],
   "source": [
    "help(util.CharsCorpusReader)"
   ]
  },
  {
   "cell_type": "code",
   "execution_count": null,
   "metadata": {
    "ExecuteTime": {
     "end_time": "2019-05-03T11:47:22.565409Z",
     "start_time": "2019-05-03T11:47:19.893Z"
    },
    "scrolled": true,
    "slideshow": {
     "slide_type": "subslide"
    }
   },
   "outputs": [],
   "source": [
    "corpus = \"allnames.txt\"\n",
    "\n",
    "LAYERS = 2\n",
    "INPUT_DIM = 32 #50  #256\n",
    "HIDDEN_DIM = 128 # 50  #1024\n",
    "\n",
    "train = util.CharsCorpusReader(corpus, begin=\"<s>\")\n",
    "vocab = util.Vocab.from_corpus(train)\n",
    "\n",
    "VOCAB_SIZE = vocab.size()\n",
    "\n",
    "model = dy.Model()\n",
    "\n",
    "trainer = dy.SimpleSGDTrainer(model, learning_rate=0.2)\n",
    "\n",
    "lm = RNNLanguageModel(model, LAYERS, INPUT_DIM, HIDDEN_DIM, VOCAB_SIZE, builder=dy.SimpleRNNBuilder)\n",
    "#lm = RNNLanguageModel(model, LAYERS, INPUT_DIM, HIDDEN_DIM, VOCAB_SIZE, builder=dy.LSTMBuilder)\n",
    "\n",
    "\n",
    "train = list(train)\n",
    "\n",
    "losses = []\n",
    "\n",
    "chars = loss = 0.0\n",
    "for ITER in range(3):\n",
    "    random.shuffle(train)\n",
    "    for i,sent in enumerate(train):\n",
    "        _start = time.time()\n",
    "        if i % 2500 == 0:\n",
    "            trainer.status()\n",
    "            print (i,len(train))\n",
    "            if chars > 0: print(loss / chars,)\n",
    "            for _ in range(1):\n",
    "                samp = lm.sample(first=vocab.w2i[\"<s>\"],stop=vocab.w2i[\"\\n\"])\n",
    "                print(\"\".join([vocab.i2w[c] for c in samp]).strip())\n",
    "            loss = 0.0\n",
    "            chars = 0.0\n",
    "\n",
    "        chars += len(sent)-1\n",
    "        isent = [vocab.w2i[w] for w in sent]\n",
    "        errs = lm.build_lm_graph(isent)\n",
    "        loss += errs.scalar_value()\n",
    "        errs.backward()\n",
    "        trainer.update()\n",
    "    print (\"TM:\",(time.time() - _start)/len(sent))\n",
    "    print(\"ITER {}, loss={}\".format(ITER, loss))\n",
    "    losses.append(loss)\n",
    "    trainer.status()\n",
    "\n",
    "lm.save_to_disk(\"RNNLanguageModel.model\")\n",
    "\n",
    "print(\"loading the saved model...\")\n",
    "lm.load_from_disk(\"RNNLanguageModel.model\")\n",
    "samp = lm.sample(first=vocab.w2i[\"<s>\"],stop=vocab.w2i[\"\\n\"])\n",
    "print(\"\".join([vocab.i2w[c] for c in samp]).strip())\n"
   ]
  },
  {
   "cell_type": "markdown",
   "metadata": {
    "slideshow": {
     "slide_type": "slide"
    }
   },
   "source": [
    "#### Question:\n",
    "\n",
    "  - How would you get the character-based representation of a word, such as, `Peter` or `animalkind`?"
   ]
  }
 ],
 "metadata": {
  "celltoolbar": "Slideshow",
  "kernelspec": {
   "display_name": "Python 3",
   "language": "python",
   "name": "python3"
  },
  "language_info": {
   "codemirror_mode": {
    "name": "ipython",
    "version": 3
   },
   "file_extension": ".py",
   "mimetype": "text/x-python",
   "name": "python",
   "nbconvert_exporter": "python",
   "pygments_lexer": "ipython3",
   "version": "3.7.3"
  },
  "latex_envs": {
   "LaTeX_envs_menu_present": true,
   "autoclose": false,
   "autocomplete": true,
   "bibliofile": "biblio.bib",
   "cite_by": "apalike",
   "current_citInitial": 1,
   "eqLabelWithNumbers": true,
   "eqNumInitial": 1,
   "hotkeys": {
    "equation": "Ctrl-E",
    "itemize": "Ctrl-I"
   },
   "labels_anchors": false,
   "latex_user_defs": false,
   "report_style_numbering": false,
   "user_envs_cfg": false
  }
 },
 "nbformat": 4,
 "nbformat_minor": 2
}
